{
 "cells": [
  {
   "cell_type": "code",
   "execution_count": null,
   "id": "9caa9c29",
   "metadata": {},
   "outputs": [],
   "source": [
    "# Loading the Necessary Modules\n",
    "\n",
    "from sklearn import model_selection\n",
    "from sklearn.model_selection import train_test_split\n",
    "from sklearn import datasets\n",
    "import numpy as np\n",
    "import pandas as pd"
   ]
  },
  {
   "cell_type": "code",
   "execution_count": 28,
   "id": "a7f1e73c",
   "metadata": {},
   "outputs": [],
   "source": [
    "# Loading the data from breast_cancer\n",
    "\n",
    "dt= datasets.load_breast_cancer()\n",
    "\n",
    "# Assigning the features and target\n",
    "\n",
    "X, y = dt.data, dt.target"
   ]
  },
  {
   "cell_type": "code",
   "execution_count": 31,
   "id": "b5332d0d",
   "metadata": {},
   "outputs": [
    {
     "data": {
      "text/plain": [
       "{'Train': 398, 'Validation': 80, 'Test': 171}"
      ]
     },
     "execution_count": 31,
     "metadata": {},
     "output_type": "execute_result"
    }
   ],
   "source": [
    "# Splitting into Train and Test\n",
    "\n",
    "X_train, X_test, y_train, y_test =train_test_split(X, y, test_size=0.3, random_state=101, stratify=y)\n",
    "\n",
    "X_train_sub, X_valid, y_train_sub, y_valid =train_test_split(X_train, y_train, test_size=0.2, random_state=101, stratify=y_train)\n",
    "\n",
    "{\"Train\": y_train.shape[0],\"Validation\":y_valid.shape[0], \"Test\":y_test.shape[0]}"
   ]
  },
  {
   "cell_type": "code",
   "execution_count": 32,
   "id": "b56d3f74",
   "metadata": {},
   "outputs": [],
   "source": [
    "# Importing the StandardScaler to scale the features\n",
    "\n",
    "from sklearn.preprocessing import StandardScaler\n",
    "\n",
    "sc = StandardScaler()\n",
    "sc.fit(X_train)\n",
    "X_train_std = sc.transform(X_train)\n",
    "X_test_std = sc.transform(X_test)"
   ]
  },
  {
   "cell_type": "code",
   "execution_count": null,
   "id": "024257c3",
   "metadata": {},
   "outputs": [],
   "source": []
  },
  {
   "cell_type": "code",
   "execution_count": 34,
   "id": "f3b7eae7",
   "metadata": {},
   "outputs": [
    {
     "name": "stdout",
     "output_type": "stream",
     "text": [
      "Fitting 10 folds for each of 24 candidates, totalling 240 fits\n",
      "[CV] END ...................max_depth=3, min_samples_split=2; total time=   0.0s\n",
      "[CV] END ...................max_depth=3, min_samples_split=2; total time=   0.0s\n",
      "[CV] END ...................max_depth=3, min_samples_split=2; total time=   0.0s\n",
      "[CV] END ...................max_depth=3, min_samples_split=2; total time=   0.0s\n",
      "[CV] END ...................max_depth=3, min_samples_split=2; total time=   0.0s\n",
      "[CV] END ...................max_depth=3, min_samples_split=2; total time=   0.0s\n",
      "[CV] END ...................max_depth=3, min_samples_split=2; total time=   0.0s\n",
      "[CV] END ...................max_depth=3, min_samples_split=2; total time=   0.0s\n",
      "[CV] END ...................max_depth=3, min_samples_split=2; total time=   0.0s\n",
      "[CV] END ...................max_depth=3, min_samples_split=2; total time=   0.0s\n",
      "[CV] END ...................max_depth=3, min_samples_split=3; total time=   0.0s\n",
      "[CV] END ...................max_depth=3, min_samples_split=3; total time=   0.0s\n",
      "[CV] END ...................max_depth=3, min_samples_split=3; total time=   0.0s\n",
      "[CV] END ...................max_depth=3, min_samples_split=3; total time=   0.0s\n",
      "[CV] END ...................max_depth=3, min_samples_split=3; total time=   0.0s\n",
      "[CV] END ...................max_depth=3, min_samples_split=3; total time=   0.0s\n",
      "[CV] END ...................max_depth=3, min_samples_split=3; total time=   0.0s\n",
      "[CV] END ...................max_depth=3, min_samples_split=3; total time=   0.0s\n",
      "[CV] END ...................max_depth=3, min_samples_split=3; total time=   0.0s\n",
      "[CV] END ...................max_depth=3, min_samples_split=3; total time=   0.0s\n",
      "[CV] END ...................max_depth=3, min_samples_split=4; total time=   0.0s\n",
      "[CV] END ...................max_depth=3, min_samples_split=4; total time=   0.0s\n",
      "[CV] END ...................max_depth=3, min_samples_split=4; total time=   0.0s\n",
      "[CV] END ...................max_depth=3, min_samples_split=4; total time=   0.0s\n",
      "[CV] END ...................max_depth=3, min_samples_split=4; total time=   0.0s\n",
      "[CV] END ...................max_depth=3, min_samples_split=4; total time=   0.0s\n",
      "[CV] END ...................max_depth=3, min_samples_split=4; total time=   0.0s\n",
      "[CV] END ...................max_depth=3, min_samples_split=4; total time=   0.0s\n",
      "[CV] END ...................max_depth=3, min_samples_split=4; total time=   0.0s\n",
      "[CV] END ...................max_depth=3, min_samples_split=4; total time=   0.0s\n",
      "[CV] END ...................max_depth=3, min_samples_split=5; total time=   0.0s\n",
      "[CV] END ...................max_depth=3, min_samples_split=5; total time=   0.0s\n",
      "[CV] END ...................max_depth=3, min_samples_split=5; total time=   0.0s\n",
      "[CV] END ...................max_depth=3, min_samples_split=5; total time=   0.0s\n",
      "[CV] END ...................max_depth=3, min_samples_split=5; total time=   0.0s\n",
      "[CV] END ...................max_depth=3, min_samples_split=5; total time=   0.0s\n",
      "[CV] END ...................max_depth=3, min_samples_split=5; total time=   0.0s\n",
      "[CV] END ...................max_depth=3, min_samples_split=5; total time=   0.0s\n",
      "[CV] END ...................max_depth=3, min_samples_split=5; total time=   0.0s\n",
      "[CV] END ...................max_depth=3, min_samples_split=5; total time=   0.0s\n",
      "[CV] END ...................max_depth=6, min_samples_split=2; total time=   0.0s\n",
      "[CV] END ...................max_depth=6, min_samples_split=2; total time=   0.0s\n",
      "[CV] END ...................max_depth=6, min_samples_split=2; total time=   0.0s\n",
      "[CV] END ...................max_depth=6, min_samples_split=2; total time=   0.0s\n",
      "[CV] END ...................max_depth=6, min_samples_split=2; total time=   0.0s\n",
      "[CV] END ...................max_depth=6, min_samples_split=2; total time=   0.0s\n",
      "[CV] END ...................max_depth=6, min_samples_split=2; total time=   0.0s\n",
      "[CV] END ...................max_depth=6, min_samples_split=2; total time=   0.0s\n",
      "[CV] END ...................max_depth=6, min_samples_split=2; total time=   0.0s\n",
      "[CV] END ...................max_depth=6, min_samples_split=2; total time=   0.0s\n",
      "[CV] END ...................max_depth=6, min_samples_split=3; total time=   0.0s\n",
      "[CV] END ...................max_depth=6, min_samples_split=3; total time=   0.0s\n",
      "[CV] END ...................max_depth=6, min_samples_split=3; total time=   0.0s\n",
      "[CV] END ...................max_depth=6, min_samples_split=3; total time=   0.0s\n",
      "[CV] END ...................max_depth=6, min_samples_split=3; total time=   0.0s\n",
      "[CV] END ...................max_depth=6, min_samples_split=3; total time=   0.0s\n",
      "[CV] END ...................max_depth=6, min_samples_split=3; total time=   0.0s\n",
      "[CV] END ...................max_depth=6, min_samples_split=3; total time=   0.0s\n",
      "[CV] END ...................max_depth=6, min_samples_split=3; total time=   0.0s\n",
      "[CV] END ...................max_depth=6, min_samples_split=3; total time=   0.0s\n",
      "[CV] END ...................max_depth=6, min_samples_split=4; total time=   0.0s\n",
      "[CV] END ...................max_depth=6, min_samples_split=4; total time=   0.0s\n",
      "[CV] END ...................max_depth=6, min_samples_split=4; total time=   0.0s\n",
      "[CV] END ...................max_depth=6, min_samples_split=4; total time=   0.0s\n",
      "[CV] END ...................max_depth=6, min_samples_split=4; total time=   0.0s\n",
      "[CV] END ...................max_depth=6, min_samples_split=4; total time=   0.0s\n",
      "[CV] END ...................max_depth=6, min_samples_split=4; total time=   0.0s\n",
      "[CV] END ...................max_depth=6, min_samples_split=4; total time=   0.0s\n",
      "[CV] END ...................max_depth=6, min_samples_split=4; total time=   0.0s\n",
      "[CV] END ...................max_depth=6, min_samples_split=4; total time=   0.0s\n",
      "[CV] END ...................max_depth=6, min_samples_split=5; total time=   0.0s\n",
      "[CV] END ...................max_depth=6, min_samples_split=5; total time=   0.0s\n",
      "[CV] END ...................max_depth=6, min_samples_split=5; total time=   0.0s\n",
      "[CV] END ...................max_depth=6, min_samples_split=5; total time=   0.0s\n",
      "[CV] END ...................max_depth=6, min_samples_split=5; total time=   0.0s\n",
      "[CV] END ...................max_depth=6, min_samples_split=5; total time=   0.0s\n",
      "[CV] END ...................max_depth=6, min_samples_split=5; total time=   0.0s\n",
      "[CV] END ...................max_depth=6, min_samples_split=5; total time=   0.0s\n",
      "[CV] END ...................max_depth=6, min_samples_split=5; total time=   0.0s\n",
      "[CV] END ...................max_depth=6, min_samples_split=5; total time=   0.0s\n",
      "[CV] END ...................max_depth=9, min_samples_split=2; total time=   0.0s\n",
      "[CV] END ...................max_depth=9, min_samples_split=2; total time=   0.0s\n",
      "[CV] END ...................max_depth=9, min_samples_split=2; total time=   0.0s\n",
      "[CV] END ...................max_depth=9, min_samples_split=2; total time=   0.0s\n",
      "[CV] END ...................max_depth=9, min_samples_split=2; total time=   0.0s\n",
      "[CV] END ...................max_depth=9, min_samples_split=2; total time=   0.0s\n",
      "[CV] END ...................max_depth=9, min_samples_split=2; total time=   0.0s\n",
      "[CV] END ...................max_depth=9, min_samples_split=2; total time=   0.0s\n",
      "[CV] END ...................max_depth=9, min_samples_split=2; total time=   0.0s\n",
      "[CV] END ...................max_depth=9, min_samples_split=2; total time=   0.0s\n",
      "[CV] END ...................max_depth=9, min_samples_split=3; total time=   0.0s\n",
      "[CV] END ...................max_depth=9, min_samples_split=3; total time=   0.0s\n",
      "[CV] END ...................max_depth=9, min_samples_split=3; total time=   0.0s\n",
      "[CV] END ...................max_depth=9, min_samples_split=3; total time=   0.0s\n",
      "[CV] END ...................max_depth=9, min_samples_split=3; total time=   0.0s\n",
      "[CV] END ...................max_depth=9, min_samples_split=3; total time=   0.0s\n",
      "[CV] END ...................max_depth=9, min_samples_split=3; total time=   0.0s\n",
      "[CV] END ...................max_depth=9, min_samples_split=3; total time=   0.0s\n",
      "[CV] END ...................max_depth=9, min_samples_split=3; total time=   0.0s\n",
      "[CV] END ...................max_depth=9, min_samples_split=3; total time=   0.0s\n",
      "[CV] END ...................max_depth=9, min_samples_split=4; total time=   0.0s\n",
      "[CV] END ...................max_depth=9, min_samples_split=4; total time=   0.0s\n",
      "[CV] END ...................max_depth=9, min_samples_split=4; total time=   0.0s\n",
      "[CV] END ...................max_depth=9, min_samples_split=4; total time=   0.0s\n",
      "[CV] END ...................max_depth=9, min_samples_split=4; total time=   0.0s\n",
      "[CV] END ...................max_depth=9, min_samples_split=4; total time=   0.0s\n",
      "[CV] END ...................max_depth=9, min_samples_split=4; total time=   0.0s\n",
      "[CV] END ...................max_depth=9, min_samples_split=4; total time=   0.0s\n",
      "[CV] END ...................max_depth=9, min_samples_split=4; total time=   0.0s\n",
      "[CV] END ...................max_depth=9, min_samples_split=4; total time=   0.0s\n",
      "[CV] END ...................max_depth=9, min_samples_split=5; total time=   0.0s\n",
      "[CV] END ...................max_depth=9, min_samples_split=5; total time=   0.0s\n",
      "[CV] END ...................max_depth=9, min_samples_split=5; total time=   0.0s\n",
      "[CV] END ...................max_depth=9, min_samples_split=5; total time=   0.0s\n",
      "[CV] END ...................max_depth=9, min_samples_split=5; total time=   0.0s\n",
      "[CV] END ...................max_depth=9, min_samples_split=5; total time=   0.0s\n",
      "[CV] END ...................max_depth=9, min_samples_split=5; total time=   0.0s\n",
      "[CV] END ...................max_depth=9, min_samples_split=5; total time=   0.0s\n",
      "[CV] END ...................max_depth=9, min_samples_split=5; total time=   0.0s\n",
      "[CV] END ...................max_depth=9, min_samples_split=5; total time=   0.0s\n"
     ]
    },
    {
     "name": "stdout",
     "output_type": "stream",
     "text": [
      "[CV] END ..................max_depth=12, min_samples_split=2; total time=   0.0s\n",
      "[CV] END ..................max_depth=12, min_samples_split=2; total time=   0.0s\n",
      "[CV] END ..................max_depth=12, min_samples_split=2; total time=   0.0s\n",
      "[CV] END ..................max_depth=12, min_samples_split=2; total time=   0.0s\n",
      "[CV] END ..................max_depth=12, min_samples_split=2; total time=   0.0s\n",
      "[CV] END ..................max_depth=12, min_samples_split=2; total time=   0.0s\n",
      "[CV] END ..................max_depth=12, min_samples_split=2; total time=   0.0s\n",
      "[CV] END ..................max_depth=12, min_samples_split=2; total time=   0.0s\n",
      "[CV] END ..................max_depth=12, min_samples_split=2; total time=   0.0s\n",
      "[CV] END ..................max_depth=12, min_samples_split=2; total time=   0.0s\n",
      "[CV] END ..................max_depth=12, min_samples_split=3; total time=   0.0s\n",
      "[CV] END ..................max_depth=12, min_samples_split=3; total time=   0.0s\n",
      "[CV] END ..................max_depth=12, min_samples_split=3; total time=   0.0s\n",
      "[CV] END ..................max_depth=12, min_samples_split=3; total time=   0.0s\n",
      "[CV] END ..................max_depth=12, min_samples_split=3; total time=   0.0s\n",
      "[CV] END ..................max_depth=12, min_samples_split=3; total time=   0.0s\n",
      "[CV] END ..................max_depth=12, min_samples_split=3; total time=   0.0s\n",
      "[CV] END ..................max_depth=12, min_samples_split=3; total time=   0.0s\n",
      "[CV] END ..................max_depth=12, min_samples_split=3; total time=   0.0s\n",
      "[CV] END ..................max_depth=12, min_samples_split=3; total time=   0.0s\n",
      "[CV] END ..................max_depth=12, min_samples_split=4; total time=   0.0s\n",
      "[CV] END ..................max_depth=12, min_samples_split=4; total time=   0.0s\n",
      "[CV] END ..................max_depth=12, min_samples_split=4; total time=   0.0s\n",
      "[CV] END ..................max_depth=12, min_samples_split=4; total time=   0.0s\n",
      "[CV] END ..................max_depth=12, min_samples_split=4; total time=   0.0s\n",
      "[CV] END ..................max_depth=12, min_samples_split=4; total time=   0.0s\n",
      "[CV] END ..................max_depth=12, min_samples_split=4; total time=   0.0s\n",
      "[CV] END ..................max_depth=12, min_samples_split=4; total time=   0.0s\n",
      "[CV] END ..................max_depth=12, min_samples_split=4; total time=   0.0s\n",
      "[CV] END ..................max_depth=12, min_samples_split=4; total time=   0.0s\n",
      "[CV] END ..................max_depth=12, min_samples_split=5; total time=   0.0s\n",
      "[CV] END ..................max_depth=12, min_samples_split=5; total time=   0.0s\n",
      "[CV] END ..................max_depth=12, min_samples_split=5; total time=   0.0s\n",
      "[CV] END ..................max_depth=12, min_samples_split=5; total time=   0.0s\n",
      "[CV] END ..................max_depth=12, min_samples_split=5; total time=   0.0s\n",
      "[CV] END ..................max_depth=12, min_samples_split=5; total time=   0.0s\n",
      "[CV] END ..................max_depth=12, min_samples_split=5; total time=   0.0s\n",
      "[CV] END ..................max_depth=12, min_samples_split=5; total time=   0.0s\n",
      "[CV] END ..................max_depth=12, min_samples_split=5; total time=   0.0s\n",
      "[CV] END ..................max_depth=12, min_samples_split=5; total time=   0.0s\n",
      "[CV] END ..................max_depth=15, min_samples_split=2; total time=   0.0s\n",
      "[CV] END ..................max_depth=15, min_samples_split=2; total time=   0.0s\n",
      "[CV] END ..................max_depth=15, min_samples_split=2; total time=   0.0s\n",
      "[CV] END ..................max_depth=15, min_samples_split=2; total time=   0.0s\n",
      "[CV] END ..................max_depth=15, min_samples_split=2; total time=   0.0s\n",
      "[CV] END ..................max_depth=15, min_samples_split=2; total time=   0.0s\n",
      "[CV] END ..................max_depth=15, min_samples_split=2; total time=   0.0s\n",
      "[CV] END ..................max_depth=15, min_samples_split=2; total time=   0.0s\n",
      "[CV] END ..................max_depth=15, min_samples_split=2; total time=   0.0s\n",
      "[CV] END ..................max_depth=15, min_samples_split=2; total time=   0.0s\n",
      "[CV] END ..................max_depth=15, min_samples_split=3; total time=   0.0s\n",
      "[CV] END ..................max_depth=15, min_samples_split=3; total time=   0.0s\n",
      "[CV] END ..................max_depth=15, min_samples_split=3; total time=   0.0s\n",
      "[CV] END ..................max_depth=15, min_samples_split=3; total time=   0.0s\n",
      "[CV] END ..................max_depth=15, min_samples_split=3; total time=   0.0s\n",
      "[CV] END ..................max_depth=15, min_samples_split=3; total time=   0.0s\n",
      "[CV] END ..................max_depth=15, min_samples_split=3; total time=   0.0s\n",
      "[CV] END ..................max_depth=15, min_samples_split=3; total time=   0.0s\n",
      "[CV] END ..................max_depth=15, min_samples_split=3; total time=   0.0s\n",
      "[CV] END ..................max_depth=15, min_samples_split=3; total time=   0.0s\n",
      "[CV] END ..................max_depth=15, min_samples_split=4; total time=   0.0s\n",
      "[CV] END ..................max_depth=15, min_samples_split=4; total time=   0.0s\n",
      "[CV] END ..................max_depth=15, min_samples_split=4; total time=   0.0s\n",
      "[CV] END ..................max_depth=15, min_samples_split=4; total time=   0.0s\n",
      "[CV] END ..................max_depth=15, min_samples_split=4; total time=   0.0s\n",
      "[CV] END ..................max_depth=15, min_samples_split=4; total time=   0.0s\n",
      "[CV] END ..................max_depth=15, min_samples_split=4; total time=   0.0s\n",
      "[CV] END ..................max_depth=15, min_samples_split=4; total time=   0.0s\n",
      "[CV] END ..................max_depth=15, min_samples_split=4; total time=   0.0s\n",
      "[CV] END ..................max_depth=15, min_samples_split=4; total time=   0.0s\n",
      "[CV] END ..................max_depth=15, min_samples_split=5; total time=   0.0s\n",
      "[CV] END ..................max_depth=15, min_samples_split=5; total time=   0.0s\n",
      "[CV] END ..................max_depth=15, min_samples_split=5; total time=   0.0s\n",
      "[CV] END ..................max_depth=15, min_samples_split=5; total time=   0.0s\n",
      "[CV] END ..................max_depth=15, min_samples_split=5; total time=   0.0s\n",
      "[CV] END ..................max_depth=15, min_samples_split=5; total time=   0.0s\n",
      "[CV] END ..................max_depth=15, min_samples_split=5; total time=   0.0s\n",
      "[CV] END ..................max_depth=15, min_samples_split=5; total time=   0.0s\n",
      "[CV] END ..................max_depth=15, min_samples_split=5; total time=   0.0s\n",
      "[CV] END ..................max_depth=15, min_samples_split=5; total time=   0.0s\n",
      "[CV] END ................max_depth=None, min_samples_split=2; total time=   0.0s\n",
      "[CV] END ................max_depth=None, min_samples_split=2; total time=   0.0s\n",
      "[CV] END ................max_depth=None, min_samples_split=2; total time=   0.0s\n",
      "[CV] END ................max_depth=None, min_samples_split=2; total time=   0.0s\n",
      "[CV] END ................max_depth=None, min_samples_split=2; total time=   0.0s\n",
      "[CV] END ................max_depth=None, min_samples_split=2; total time=   0.0s\n",
      "[CV] END ................max_depth=None, min_samples_split=2; total time=   0.0s\n",
      "[CV] END ................max_depth=None, min_samples_split=2; total time=   0.0s\n",
      "[CV] END ................max_depth=None, min_samples_split=2; total time=   0.0s\n",
      "[CV] END ................max_depth=None, min_samples_split=2; total time=   0.0s\n",
      "[CV] END ................max_depth=None, min_samples_split=3; total time=   0.0s\n",
      "[CV] END ................max_depth=None, min_samples_split=3; total time=   0.0s\n",
      "[CV] END ................max_depth=None, min_samples_split=3; total time=   0.0s\n",
      "[CV] END ................max_depth=None, min_samples_split=3; total time=   0.0s\n",
      "[CV] END ................max_depth=None, min_samples_split=3; total time=   0.0s\n",
      "[CV] END ................max_depth=None, min_samples_split=3; total time=   0.0s\n",
      "[CV] END ................max_depth=None, min_samples_split=3; total time=   0.0s\n",
      "[CV] END ................max_depth=None, min_samples_split=3; total time=   0.0s\n",
      "[CV] END ................max_depth=None, min_samples_split=3; total time=   0.0s\n",
      "[CV] END ................max_depth=None, min_samples_split=3; total time=   0.0s\n",
      "[CV] END ................max_depth=None, min_samples_split=4; total time=   0.0s\n",
      "[CV] END ................max_depth=None, min_samples_split=4; total time=   0.0s\n",
      "[CV] END ................max_depth=None, min_samples_split=4; total time=   0.0s\n",
      "[CV] END ................max_depth=None, min_samples_split=4; total time=   0.0s\n",
      "[CV] END ................max_depth=None, min_samples_split=4; total time=   0.0s\n",
      "[CV] END ................max_depth=None, min_samples_split=4; total time=   0.0s\n",
      "[CV] END ................max_depth=None, min_samples_split=4; total time=   0.0s\n",
      "[CV] END ................max_depth=None, min_samples_split=4; total time=   0.0s\n",
      "[CV] END ................max_depth=None, min_samples_split=4; total time=   0.0s\n",
      "[CV] END ................max_depth=None, min_samples_split=4; total time=   0.0s\n"
     ]
    },
    {
     "name": "stdout",
     "output_type": "stream",
     "text": [
      "[CV] END ................max_depth=None, min_samples_split=5; total time=   0.0s\n",
      "[CV] END ................max_depth=None, min_samples_split=5; total time=   0.0s\n",
      "[CV] END ................max_depth=None, min_samples_split=5; total time=   0.0s\n",
      "[CV] END ................max_depth=None, min_samples_split=5; total time=   0.0s\n",
      "[CV] END ................max_depth=None, min_samples_split=5; total time=   0.0s\n",
      "[CV] END ................max_depth=None, min_samples_split=5; total time=   0.0s\n",
      "[CV] END ................max_depth=None, min_samples_split=5; total time=   0.0s\n",
      "[CV] END ................max_depth=None, min_samples_split=5; total time=   0.0s\n",
      "[CV] END ................max_depth=None, min_samples_split=5; total time=   0.0s\n",
      "[CV] END ................max_depth=None, min_samples_split=5; total time=   0.0s\n"
     ]
    },
    {
     "data": {
      "text/plain": [
       "GridSearchCV(cv=10, estimator=DecisionTreeClassifier(random_state=601),\n",
       "             n_jobs=1,\n",
       "             param_grid={'max_depth': [3, 6, 9, 12, 15, None],\n",
       "                         'min_samples_split': [2, 3, 4, 5]},\n",
       "             verbose=2)"
      ]
     },
     "execution_count": 34,
     "metadata": {},
     "output_type": "execute_result"
    }
   ],
   "source": [
    "# The Grid Search to obtain the optimal parameters\n",
    "\n",
    "import numpy as np\n",
    "from sklearn.model_selection import GridSearchCV\n",
    "from sklearn.tree import DecisionTreeClassifier\n",
    "\n",
    "\n",
    "dtree= DecisionTreeClassifier(random_state=601)\n",
    "\n",
    "params =  {\n",
    "    'min_samples_split': [2, 3, 4,5],\n",
    "    'max_depth': [3,6,9,12,15, None]\n",
    "}\n",
    "\n",
    "\n",
    "grid = GridSearchCV(estimator=dtree,\n",
    "                    param_grid=params,\n",
    "                    cv=10,\n",
    "                    n_jobs=1,\n",
    "                    verbose=2)\n",
    "\n",
    "grid.fit(X_train_std, y_train)\n",
    "\n"
   ]
  },
  {
   "cell_type": "code",
   "execution_count": 35,
   "id": "7a527184",
   "metadata": {},
   "outputs": [
    {
     "data": {
      "text/plain": [
       "0.9197435897435897"
      ]
     },
     "execution_count": 35,
     "metadata": {},
     "output_type": "execute_result"
    }
   ],
   "source": [
    "# The grid search accuracy\n",
    "\n",
    "grid.best_score_"
   ]
  },
  {
   "cell_type": "code",
   "execution_count": 36,
   "id": "647ed0a5",
   "metadata": {},
   "outputs": [
    {
     "data": {
      "text/plain": [
       "{'max_depth': 9, 'min_samples_split': 2}"
      ]
     },
     "execution_count": 36,
     "metadata": {},
     "output_type": "execute_result"
    }
   ],
   "source": [
    "# the best parameters\n",
    "\n",
    "grid.best_params_"
   ]
  },
  {
   "cell_type": "code",
   "execution_count": 40,
   "id": "667c104e",
   "metadata": {},
   "outputs": [],
   "source": [
    "# Fitting the decision tree with the optimal params\n",
    "\n",
    "dtree= DecisionTreeClassifier(random_state=601,max_depth=9,min_samples_split=2)"
   ]
  },
  {
   "cell_type": "code",
   "execution_count": 42,
   "id": "fa7baca1",
   "metadata": {},
   "outputs": [],
   "source": [
    "model=dtree.fit(X_train_std,y_train)"
   ]
  },
  {
   "cell_type": "code",
   "execution_count": 43,
   "id": "7f5d2a7d",
   "metadata": {},
   "outputs": [],
   "source": [
    "from sklearn.metrics import confusion_matrix, classification_report"
   ]
  },
  {
   "cell_type": "code",
   "execution_count": 44,
   "id": "5fc20d6f",
   "metadata": {},
   "outputs": [],
   "source": [
    "#Making the predictions\n",
    "\n",
    "pred = model.predict(X_test_std )"
   ]
  },
  {
   "cell_type": "code",
   "execution_count": 45,
   "id": "d79e6e9c",
   "metadata": {},
   "outputs": [
    {
     "name": "stdout",
     "output_type": "stream",
     "text": [
      "              precision    recall  f1-score   support\n",
      "\n",
      "           0       0.83      0.94      0.88        64\n",
      "           1       0.96      0.89      0.92       107\n",
      "\n",
      "    accuracy                           0.91       171\n",
      "   macro avg       0.90      0.91      0.90       171\n",
      "weighted avg       0.91      0.91      0.91       171\n",
      "\n"
     ]
    }
   ],
   "source": [
    "# The classification report\n",
    "\n",
    "print(classification_report(y_test, pred))"
   ]
  },
  {
   "cell_type": "markdown",
   "id": "ced4fe65",
   "metadata": {},
   "source": []
  },
  {
   "cell_type": "code",
   "execution_count": null,
   "id": "5d41ac3a",
   "metadata": {},
   "outputs": [],
   "source": []
  },
  {
   "cell_type": "code",
   "execution_count": null,
   "id": "a218a278",
   "metadata": {},
   "outputs": [],
   "source": []
  },
  {
   "cell_type": "code",
   "execution_count": null,
   "id": "887eb9cd",
   "metadata": {},
   "outputs": [],
   "source": []
  },
  {
   "cell_type": "code",
   "execution_count": null,
   "id": "d838e7fe",
   "metadata": {},
   "outputs": [],
   "source": []
  },
  {
   "cell_type": "code",
   "execution_count": null,
   "id": "03e26fe2",
   "metadata": {},
   "outputs": [],
   "source": []
  },
  {
   "cell_type": "code",
   "execution_count": null,
   "id": "59f4180c",
   "metadata": {},
   "outputs": [],
   "source": []
  },
  {
   "cell_type": "code",
   "execution_count": null,
   "id": "a667d62d",
   "metadata": {},
   "outputs": [],
   "source": []
  },
  {
   "cell_type": "code",
   "execution_count": null,
   "id": "02e64cb6",
   "metadata": {},
   "outputs": [],
   "source": []
  },
  {
   "cell_type": "code",
   "execution_count": null,
   "id": "04a6fe91",
   "metadata": {},
   "outputs": [],
   "source": []
  },
  {
   "cell_type": "code",
   "execution_count": null,
   "id": "22e49467",
   "metadata": {},
   "outputs": [],
   "source": []
  },
  {
   "cell_type": "code",
   "execution_count": null,
   "id": "4759d02e",
   "metadata": {},
   "outputs": [],
   "source": []
  },
  {
   "cell_type": "code",
   "execution_count": null,
   "id": "9aadad66",
   "metadata": {},
   "outputs": [],
   "source": []
  },
  {
   "cell_type": "code",
   "execution_count": null,
   "id": "b3ffbd4e",
   "metadata": {},
   "outputs": [],
   "source": []
  },
  {
   "cell_type": "code",
   "execution_count": null,
   "id": "9b1d9ae5",
   "metadata": {},
   "outputs": [],
   "source": []
  },
  {
   "cell_type": "code",
   "execution_count": null,
   "id": "336332c7",
   "metadata": {},
   "outputs": [],
   "source": []
  },
  {
   "cell_type": "code",
   "execution_count": null,
   "id": "db847866",
   "metadata": {},
   "outputs": [],
   "source": []
  },
  {
   "cell_type": "code",
   "execution_count": null,
   "id": "ef888c5f",
   "metadata": {},
   "outputs": [],
   "source": []
  },
  {
   "cell_type": "code",
   "execution_count": null,
   "id": "43844e27",
   "metadata": {},
   "outputs": [],
   "source": []
  },
  {
   "cell_type": "code",
   "execution_count": null,
   "id": "10af2077",
   "metadata": {},
   "outputs": [],
   "source": []
  },
  {
   "cell_type": "markdown",
   "id": "166e7e2b",
   "metadata": {},
   "source": []
  },
  {
   "cell_type": "code",
   "execution_count": null,
   "id": "670306c9",
   "metadata": {},
   "outputs": [],
   "source": []
  },
  {
   "cell_type": "code",
   "execution_count": null,
   "id": "400f2c0c",
   "metadata": {},
   "outputs": [],
   "source": []
  }
 ],
 "metadata": {
  "kernelspec": {
   "display_name": "Python 3 (ipykernel)",
   "language": "python",
   "name": "python3"
  },
  "language_info": {
   "codemirror_mode": {
    "name": "ipython",
    "version": 3
   },
   "file_extension": ".py",
   "mimetype": "text/x-python",
   "name": "python",
   "nbconvert_exporter": "python",
   "pygments_lexer": "ipython3",
   "version": "3.9.12"
  }
 },
 "nbformat": 4,
 "nbformat_minor": 5
}
